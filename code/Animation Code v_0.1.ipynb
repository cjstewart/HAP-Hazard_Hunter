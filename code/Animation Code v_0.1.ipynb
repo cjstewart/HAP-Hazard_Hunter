{
 "cells": [
  {
   "cell_type": "markdown",
   "metadata": {},
   "source": [
    "## This code is a prototype that is current non-functional\n",
    "\n",
    "It has the goal of eventually generating animations and other visualizations of the MOPITT data"
   ]
  },
  {
   "cell_type": "code",
   "execution_count": null,
   "metadata": {},
   "outputs": [],
   "source": [
    "# currently just a store for code that doesn't fit in other notebooks"
   ]
  },
  {
   "cell_type": "code",
   "execution_count": null,
   "metadata": {},
   "outputs": [],
   "source": [
    "# print(data_df['COTotalColumn'].min())\n",
    "# print(data_df['COTotalColumn'].max())"
   ]
  },
  {
   "cell_type": "code",
   "execution_count": null,
   "metadata": {},
   "outputs": [],
   "source": [
    "'''\n",
    "\n",
    "# %matplotlib notebook\n",
    "# Repeat plots for date range\n",
    "dateIndices = range(0,int(np.ceil(len(dateIndex_df)/5)*5+1),5) # create 5-day index chunks\n",
    "\n",
    "start_i = 0\n",
    "max_i = 2\n",
    "#max_i = len(dateIndices)\n",
    "\n",
    "figs = []\n",
    "axis = []\n",
    "\n",
    "for i in range(start_i,max_i): # loop through the date indicies and lookup corresponding date (years, months, days)\n",
    "    \n",
    "    figs.append(plt.figure(figsize=(28,12)))\n",
    "    \n",
    "    axis.append(figs[i].add_subplot(1,1,1, projection=crs.PlateCarree())) #.Robinson()) - alternate projection\n",
    "    # add details and features to map\n",
    "    axis[i].stock_img()\n",
    "    axis[i].coastlines()\n",
    "    axis[i].gridlines()\n",
    "    figs[i].suptitle('Carbon Monoxide (CO) Emissions', size=25)\n",
    "    \n",
    "    # colour map and legend bar\n",
    "    cmap = mpl.cm.plasma # mpl.cm.jet\n",
    "    norm = mpl.colors.Normalize(vmin=data_df['COTotalColumn'].min(), vmax=data_df['COTotalColumn'].max())\n",
    "\n",
    "    cb1 = mpl.colorbar.ColorbarBase(axis[i], cmap=cmap,\n",
    "                                    norm=norm) #,\n",
    "                                    #orientation='horizontal')\n",
    "    cb1.set_label('mol/cm^2')\n",
    "\n",
    "    #cb = fig.colorbar(mpl.cm.ScalarMappable(norm=norm, cmap=plt.cm.jet), ax=ax)\n",
    "    #cb = plt.colorbar()\n",
    "    #cb.set_label('mol/cm^2')\n",
    "    \n",
    "    \n",
    "    \n",
    "    \n",
    "    # for capturing date of plot start\n",
    "    firstRun = True\n",
    "    fileDate = \"\"\n",
    "    \n",
    "    # loop through each dateIndex row and extract the year, month, day and filter data_df by them\n",
    "    for row in dateIndex_df.loc[dateIndices[i]:dateIndices[i+1]-1,['Year','Month','Day']].itertuples(index=False):\n",
    "\n",
    "        if firstRun: # capture 5-day chunk start date for filename later\n",
    "            fileDate = str(row[0])+str(row[1])+str(row[2])\n",
    "            print(fileDate)\n",
    "        \n",
    "        temp_df = data_df[(data_df['Year'] == row[0]) \n",
    "                        & (data_df['Month'] == row[1]) \n",
    "                        & (data_df['Day'] == row[2])]\n",
    "        \n",
    "        axis[i].scatter(x=temp_df['Longitude'], y=temp_df['Latitude'],\n",
    "                        c=temp_df['COTotalColumn'], #COTotalColumn,   # #COMixingRatio_surface,\n",
    "                        s=1,\n",
    "                        alpha=0.5,\n",
    "                        cmap=cmap,\n",
    "                        edgecolors=None, \n",
    "                        linewidth=0,\n",
    "                        transform=crs.PlateCarree(), ## Important\n",
    "                       ) \n",
    "\n",
    "        firstRun = False\n",
    "        # ax.set_title()\n",
    "\n",
    "        print('made it here!')\n",
    "        \n",
    "    print('made it here 2!')\n",
    "\n",
    "    figs[i].show()\n",
    "\n",
    "    #fig = plt.gcf()\n",
    "    #str(nameTuple[0]) \n",
    "    \n",
    "    image_name = ('{0}_{1}_{2}'.format('CO_Emissions',str(i),'TEST')) #data_df['Date'][0]))\n",
    "    pngfile = \"{0}.png\".format(image_name)\n",
    "    #fig.savefig(pngfile)\n",
    "\n",
    "\n",
    "    # output_path = Path(os.getcwd()).parents[0] / 'output_images' #\n",
    "\n",
    "'''"
   ]
  },
  {
   "cell_type": "code",
   "execution_count": null,
   "metadata": {},
   "outputs": [],
   "source": [
    "# for later when making animated images\n",
    "'''\n",
    "def init():  \n",
    "    ax.set_xlim(0, 2*np.pi)\n",
    "    ax.set_ylim(-1, 1)  \n",
    "\n",
    "      \n",
    "    def update(i):  \n",
    "        x.append(i)  \n",
    "        ysin.append(np.sin(i))  \n",
    "        ycos.append(np.cos(i))  \n",
    "        ln1.set_data(x, ysin)  \n",
    "        ln2.set_data(x, ycos)  \n",
    "\n",
    "\n",
    "\n",
    "    ani = FuncAnimation(fig, update, np.linspace(0, 2*np.pi, 64), init_func=init)  \n",
    "    plt.show()\n",
    "\n",
    "\n",
    "'''\n"
   ]
  },
  {
   "cell_type": "markdown",
   "metadata": {},
   "source": [
    "### Machine Learning\n",
    "\n",
    "- First we try a simple model like anaomily detection as described here: https://www.ericsson.com/en/blog/2020/4/anomaly-detection-with-machine-learning"
   ]
  },
  {
   "cell_type": "code",
   "execution_count": null,
   "metadata": {},
   "outputs": [],
   "source": []
  },
  {
   "cell_type": "code",
   "execution_count": null,
   "metadata": {},
   "outputs": [],
   "source": []
  }
 ],
 "metadata": {
  "kernelspec": {
   "display_name": "Python 3",
   "language": "python",
   "name": "python3"
  },
  "language_info": {
   "codemirror_mode": {
    "name": "ipython",
    "version": 3
   },
   "file_extension": ".py",
   "mimetype": "text/x-python",
   "name": "python",
   "nbconvert_exporter": "python",
   "pygments_lexer": "ipython3",
   "version": "3.7.9"
  }
 },
 "nbformat": 4,
 "nbformat_minor": 4
}
